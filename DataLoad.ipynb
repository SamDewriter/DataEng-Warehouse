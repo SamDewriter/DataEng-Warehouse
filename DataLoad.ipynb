{
 "cells": [
  {
   "cell_type": "code",
   "execution_count": null,
   "metadata": {},
   "outputs": [],
   "source": [
    "import datetime as dt\n",
    "import pandas as pd\n",
    "import csv\n",
    "import pymysql\n",
    "pymysql.install_as_MySQLdb()\n",
    "import MySQLdb\n",
    "from airflow import DAG\n",
    "from airflow.operators.python_operator import PythonOperator\n",
    "import mysql.connector as msql\n",
    "from mysql.connector import Error"
   ]
  },
  {
   "cell_type": "code",
   "execution_count": 6,
   "metadata": {},
   "outputs": [],
   "source": [
    "def load_data(data):\n",
    "    df = pd.read_csv(data)\n",
    "    return df"
   ]
  },
  {
   "cell_type": "code",
   "execution_count": 10,
   "metadata": {},
   "outputs": [],
   "source": [
    "new_df = load_data('richards.csv')"
   ]
  },
  {
   "cell_type": "code",
   "execution_count": null,
   "metadata": {},
   "outputs": [],
   "source": [
    "def to_sql(): \n",
    "    try:\n",
    "        conn = msql.connect(host='localhost', database='davisdb', user='root', password='bo2108luwatife@1')\n",
    "        if conn.is_connected():\n",
    "            cursor = conn.cursor()\n",
    "            cursor.execute(\"select database();\")\n",
    "            record = cursor.fetchone()\n",
    "            print(\"You're connected to database:\", record)\n",
    "            cursor.execute('DROP TABLE IF EXISTS sensor_data;')\n",
    "            print('Creating table....')\n",
    "# in the below line please pass the create table statement which you want #to create\n",
    "            cursor.execute(\"CREATE TABLE sensor_data(Date varchar(255), flow1 int(6), occupancy1 varchar(255), flow2 varchar(255), occupancy2 varchar(255), flow3 varchar(255),occupancy3 varchar(255),totalflow int, weekday int, hour int,minute int,second int)\")\n",
    "            print(\"Table is created....\")\n",
    "            #loop through the data frame\n",
    "            for i,row in new_df.iterrows():\n",
    "            #here %S means string values \n",
    "                sql = \"INSERT INTO davis2.sensor_data VALUES (%s,%s,%s,%s,%s,%s,%s,%s,%s,%s,%s,%s)\"\n",
    "                cursor.execute(sql, tuple(row))\n",
    "                print(\"Record inserted\")\n",
    "            # the connection is not auto committed by default, so we must commit to save our changes\n",
    "                conn.commit()\n",
    "    except Error as e:\n",
    "        print(\"Error while connecting to MySQL\", e)"
   ]
  },
  {
   "cell_type": "code",
   "execution_count": null,
   "metadata": {},
   "outputs": [],
   "source": [
    "# Step 3: Define the DAG, i.e. the workflow\n",
    "\n",
    "# DAG's arguments\n",
    "default_args = {\n",
    "        'owner': 'Mubarak',\n",
    "        'start_date':dt.datetime(2021, 22, 9, 9, 00, 00),\n",
    "        'concurrency': 1,\n",
    "        'retries': 0\n",
    "        }\n",
    "\n",
    "# DAG's operators, or bones of the workflow\n",
    "with DAG('Loading data into Database',\n",
    "        catchup=False, # To skip any intervals we didn't run\n",
    "        default_args=default_args,\n",
    "        schedule_interval='* 1 * * * *', # 's m h d mo y'; set to run every minute.\n",
    "        ) as dag:\n",
    "\n",
    "    load_csv = PythonOperator(\n",
    "            task_id='Load CSV',\n",
    "            python_callable=load_data,\n",
    "            )\n",
    "\n",
    "    upload_csv_to_sql = PythonOperator(\n",
    "            task_id='CSV to Database',\n",
    "            python_callable=to_sql\n",
    "            )\n",
    "\n",
    "# The actual workflow\n",
    "load_csv >> upload_csv_to_sql"
   ]
  },
  {
   "cell_type": "code",
   "execution_count": 14,
   "metadata": {},
   "outputs": [
    {
     "name": "stderr",
     "output_type": "stream",
     "text": [
      "[NbConvertApp] Converting notebook DataLoad.ipynb to script\n",
      "[NbConvertApp] Writing 2687 bytes to DataLoad.py\n"
     ]
    }
   ],
   "source": [
    "!jupyter nbconvert --to script DataLoad.ipynb"
   ]
  },
  {
   "cell_type": "code",
   "execution_count": null,
   "metadata": {},
   "outputs": [],
   "source": []
  }
 ],
 "metadata": {
  "kernelspec": {
   "display_name": "Python 3",
   "language": "python",
   "name": "python3"
  },
  "language_info": {
   "codemirror_mode": {
    "name": "ipython",
    "version": 3
   },
   "file_extension": ".py",
   "mimetype": "text/x-python",
   "name": "python",
   "nbconvert_exporter": "python",
   "pygments_lexer": "ipython3",
   "version": "3.8.5"
  }
 },
 "nbformat": 4,
 "nbformat_minor": 4
}
